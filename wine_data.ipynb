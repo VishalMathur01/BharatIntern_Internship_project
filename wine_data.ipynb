{
  "cells": [
    {
      "cell_type": "code",
      "execution_count": null,
      "metadata": {
        "id": "q4IO8YdDkgOf"
      },
      "outputs": [],
      "source": [
        "import numpy as np\n",
        "import pandas as pd\n",
        "import tensorflow as tf\n",
        "import time as t\n",
        "from sklearn.preprocessing import MinMaxScaler, OneHotEncoder\n",
        "from sklearn.metrics import confusion_matrix, classification_report\n",
        "import seaborn as sns\n",
        "from sklearn.model_selection import train_test_split\n",
        "from sklearn.compose import make_column_transformer"
      ]
    },
    {
      "cell_type": "code",
      "execution_count": null,
      "metadata": {
        "id": "51DU7Wa7la_q"
      },
      "outputs": [],
      "source": [
        "data = pd.read_csv(\"/content/WineQuality.csv\")"
      ]
    },
    {
      "cell_type": "code",
      "execution_count": null,
      "metadata": {
        "colab": {
          "base_uri": "https://localhost:8080/"
        },
        "id": "xIi5MU7Jl9OP",
        "outputId": "c2261b97-6b0a-46c0-8598-adaf1fc83c57"
      },
      "outputs": [
        {
          "output_type": "execute_result",
          "data": {
            "text/plain": [
              "Index(['Unnamed: 0', 'fixed acidity', 'volatile acidity', 'citric acid',\n",
              "       'residual sugar', 'chlorides', 'free sulfur dioxide',\n",
              "       'total sulfur dioxide', 'density', 'pH', 'sulphates', 'alcohol',\n",
              "       'quality', 'Type'],\n",
              "      dtype='object')"
            ]
          },
          "metadata": {},
          "execution_count": 3
        }
      ],
      "source": [
        "names = data.columns\n",
        "names"
      ]
    },
    {
      "cell_type": "code",
      "execution_count": null,
      "metadata": {
        "colab": {
          "base_uri": "https://localhost:8080/"
        },
        "id": "L0xrI7a9mAel",
        "outputId": "42738ef6-d6e6-4a3c-fdae-b4c0c63f1511"
      },
      "outputs": [
        {
          "output_type": "stream",
          "name": "stdout",
          "text": [
            "<class 'pandas.core.frame.DataFrame'>\n",
            "RangeIndex: 32485 entries, 0 to 32484\n",
            "Data columns (total 14 columns):\n",
            " #   Column                Non-Null Count  Dtype  \n",
            "---  ------                --------------  -----  \n",
            " 0   Unnamed: 0            32485 non-null  int64  \n",
            " 1   fixed acidity         32485 non-null  float64\n",
            " 2   volatile acidity      32485 non-null  float64\n",
            " 3   citric acid           32485 non-null  float64\n",
            " 4   residual sugar        32485 non-null  float64\n",
            " 5   chlorides             32485 non-null  float64\n",
            " 6   free sulfur dioxide   32485 non-null  float64\n",
            " 7   total sulfur dioxide  32485 non-null  float64\n",
            " 8   density               32485 non-null  float64\n",
            " 9   pH                    32485 non-null  float64\n",
            " 10  sulphates             32485 non-null  float64\n",
            " 11  alcohol               32485 non-null  float64\n",
            " 12  quality               32485 non-null  int64  \n",
            " 13  Type                  32485 non-null  object \n",
            "dtypes: float64(11), int64(2), object(1)\n",
            "memory usage: 3.5+ MB\n"
          ]
        }
      ],
      "source": [
        "data.info()"
      ]
    },
    {
      "cell_type": "code",
      "execution_count": null,
      "metadata": {
        "id": "CqeIRnkumLvq"
      },
      "outputs": [],
      "source": [
        "X = data.iloc[:, [1, 2, 3, 4, 5, 6, 7, 8, 9, 10, 11, 13]]\n",
        "y = data.iloc[:, [12]]"
      ]
    },
    {
      "cell_type": "code",
      "execution_count": null,
      "metadata": {
        "colab": {
          "base_uri": "https://localhost:8080/"
        },
        "id": "hS3blM-pmNSr",
        "outputId": "5030eafa-429b-4e67-ad37-1374dba8d801"
      },
      "outputs": [
        {
          "output_type": "stream",
          "name": "stdout",
          "text": [
            "<class 'pandas.core.frame.DataFrame'>\n",
            "RangeIndex: 32485 entries, 0 to 32484\n",
            "Data columns (total 12 columns):\n",
            " #   Column                Non-Null Count  Dtype  \n",
            "---  ------                --------------  -----  \n",
            " 0   fixed acidity         32485 non-null  float64\n",
            " 1   volatile acidity      32485 non-null  float64\n",
            " 2   citric acid           32485 non-null  float64\n",
            " 3   residual sugar        32485 non-null  float64\n",
            " 4   chlorides             32485 non-null  float64\n",
            " 5   free sulfur dioxide   32485 non-null  float64\n",
            " 6   total sulfur dioxide  32485 non-null  float64\n",
            " 7   density               32485 non-null  float64\n",
            " 8   pH                    32485 non-null  float64\n",
            " 9   sulphates             32485 non-null  float64\n",
            " 10  alcohol               32485 non-null  float64\n",
            " 11  Type                  32485 non-null  object \n",
            "dtypes: float64(11), object(1)\n",
            "memory usage: 3.0+ MB\n",
            "<class 'pandas.core.frame.DataFrame'>\n",
            "RangeIndex: 32485 entries, 0 to 32484\n",
            "Data columns (total 1 columns):\n",
            " #   Column   Non-Null Count  Dtype\n",
            "---  ------   --------------  -----\n",
            " 0   quality  32485 non-null  int64\n",
            "dtypes: int64(1)\n",
            "memory usage: 253.9 KB\n"
          ]
        },
        {
          "output_type": "execute_result",
          "data": {
            "text/plain": [
              "(None, None)"
            ]
          },
          "metadata": {},
          "execution_count": 6
        }
      ],
      "source": [
        "X.info(), y.info()"
      ]
    },
    {
      "cell_type": "code",
      "execution_count": null,
      "metadata": {
        "colab": {
          "base_uri": "https://localhost:8080/",
          "height": 520
        },
        "id": "JxBiCW2hmiAo",
        "outputId": "28a39b72-e9b8-40be-f781-afa7fa04ec8f"
      },
      "outputs": [
        {
          "output_type": "execute_result",
          "data": {
            "text/plain": [
              "    fixed acidity  volatile acidity  citric acid  residual sugar  chlorides  \\\n",
              "0             7.4             0.170         0.29            1.40      0.047   \n",
              "1             5.3             0.310         0.38           10.50      0.031   \n",
              "2             4.7             0.145         0.29            1.00      0.042   \n",
              "3             6.9             0.260         0.29            4.20      0.043   \n",
              "4             6.4             0.450         0.07            1.10      0.030   \n",
              "5             8.4             0.320         0.35           11.70      0.029   \n",
              "6             7.4             0.300         0.22            5.25      0.053   \n",
              "7             7.0             0.320         0.29            7.60      0.025   \n",
              "8             6.7             0.460         0.27            5.20      0.039   \n",
              "9             6.4             0.250         0.30            5.50      0.038   \n",
              "10            6.0             0.510         0.00            2.10      0.064   \n",
              "11            7.8             0.300         0.29           16.85      0.054   \n",
              "12            6.7             0.310         0.31            9.90      0.040   \n",
              "13            6.8             0.690         0.00            5.60      0.124   \n",
              "14            7.3             0.480         0.32            2.10      0.062   \n",
              "\n",
              "    free sulfur dioxide  total sulfur dioxide  density    pH  sulphates  \\\n",
              "0                  23.0                 107.0  0.99390  3.52       0.65   \n",
              "1                  53.0                 140.0  0.99321  3.34       0.46   \n",
              "2                  35.0                  90.0  0.99080  3.76       0.49   \n",
              "3                  33.0                 114.0  0.99020  3.16       0.31   \n",
              "4                  10.0                 131.0  0.99050  2.97       0.28   \n",
              "5                   3.0                  46.0  0.99439  3.02       0.34   \n",
              "6                  33.0                 180.0  0.99260  3.13       0.45   \n",
              "7                  35.0                 124.0  0.99162  3.15       0.65   \n",
              "8                  35.0                  96.0  0.99129  3.16       0.44   \n",
              "9                  15.0                 129.0  0.99480  3.14       0.49   \n",
              "10                 40.0                  54.0  0.99500  3.54       0.93   \n",
              "11                 23.0                 135.0  0.99980  3.16       0.38   \n",
              "12                 10.0                 175.0  0.99530  3.46       0.55   \n",
              "13                 21.0                  58.0  0.99970  3.46       0.72   \n",
              "14                 31.0                  54.0  0.99728  3.30       0.65   \n",
              "\n",
              "    alcohol        Type  \n",
              "0      10.4  White Wine  \n",
              "1      11.7  White Wine  \n",
              "2      11.3  White Wine  \n",
              "3      12.5  White Wine  \n",
              "4      10.8  White Wine  \n",
              "5      11.8  White Wine  \n",
              "6      11.6  White Wine  \n",
              "7      12.8  White Wine  \n",
              "8      12.4  White Wine  \n",
              "9       9.6  White Wine  \n",
              "10     10.7    Red Wine  \n",
              "11      9.0  White Wine  \n",
              "12     11.4  White Wine  \n",
              "13     10.2    Red Wine  \n",
              "14     10.0    Red Wine  "
            ],
            "text/html": [
              "\n",
              "\n",
              "  <div id=\"df-3cc79daa-4e58-49cb-9ccf-87ac6fd6443d\">\n",
              "    <div class=\"colab-df-container\">\n",
              "      <div>\n",
              "<style scoped>\n",
              "    .dataframe tbody tr th:only-of-type {\n",
              "        vertical-align: middle;\n",
              "    }\n",
              "\n",
              "    .dataframe tbody tr th {\n",
              "        vertical-align: top;\n",
              "    }\n",
              "\n",
              "    .dataframe thead th {\n",
              "        text-align: right;\n",
              "    }\n",
              "</style>\n",
              "<table border=\"1\" class=\"dataframe\">\n",
              "  <thead>\n",
              "    <tr style=\"text-align: right;\">\n",
              "      <th></th>\n",
              "      <th>fixed acidity</th>\n",
              "      <th>volatile acidity</th>\n",
              "      <th>citric acid</th>\n",
              "      <th>residual sugar</th>\n",
              "      <th>chlorides</th>\n",
              "      <th>free sulfur dioxide</th>\n",
              "      <th>total sulfur dioxide</th>\n",
              "      <th>density</th>\n",
              "      <th>pH</th>\n",
              "      <th>sulphates</th>\n",
              "      <th>alcohol</th>\n",
              "      <th>Type</th>\n",
              "    </tr>\n",
              "  </thead>\n",
              "  <tbody>\n",
              "    <tr>\n",
              "      <th>0</th>\n",
              "      <td>7.4</td>\n",
              "      <td>0.170</td>\n",
              "      <td>0.29</td>\n",
              "      <td>1.40</td>\n",
              "      <td>0.047</td>\n",
              "      <td>23.0</td>\n",
              "      <td>107.0</td>\n",
              "      <td>0.99390</td>\n",
              "      <td>3.52</td>\n",
              "      <td>0.65</td>\n",
              "      <td>10.4</td>\n",
              "      <td>White Wine</td>\n",
              "    </tr>\n",
              "    <tr>\n",
              "      <th>1</th>\n",
              "      <td>5.3</td>\n",
              "      <td>0.310</td>\n",
              "      <td>0.38</td>\n",
              "      <td>10.50</td>\n",
              "      <td>0.031</td>\n",
              "      <td>53.0</td>\n",
              "      <td>140.0</td>\n",
              "      <td>0.99321</td>\n",
              "      <td>3.34</td>\n",
              "      <td>0.46</td>\n",
              "      <td>11.7</td>\n",
              "      <td>White Wine</td>\n",
              "    </tr>\n",
              "    <tr>\n",
              "      <th>2</th>\n",
              "      <td>4.7</td>\n",
              "      <td>0.145</td>\n",
              "      <td>0.29</td>\n",
              "      <td>1.00</td>\n",
              "      <td>0.042</td>\n",
              "      <td>35.0</td>\n",
              "      <td>90.0</td>\n",
              "      <td>0.99080</td>\n",
              "      <td>3.76</td>\n",
              "      <td>0.49</td>\n",
              "      <td>11.3</td>\n",
              "      <td>White Wine</td>\n",
              "    </tr>\n",
              "    <tr>\n",
              "      <th>3</th>\n",
              "      <td>6.9</td>\n",
              "      <td>0.260</td>\n",
              "      <td>0.29</td>\n",
              "      <td>4.20</td>\n",
              "      <td>0.043</td>\n",
              "      <td>33.0</td>\n",
              "      <td>114.0</td>\n",
              "      <td>0.99020</td>\n",
              "      <td>3.16</td>\n",
              "      <td>0.31</td>\n",
              "      <td>12.5</td>\n",
              "      <td>White Wine</td>\n",
              "    </tr>\n",
              "    <tr>\n",
              "      <th>4</th>\n",
              "      <td>6.4</td>\n",
              "      <td>0.450</td>\n",
              "      <td>0.07</td>\n",
              "      <td>1.10</td>\n",
              "      <td>0.030</td>\n",
              "      <td>10.0</td>\n",
              "      <td>131.0</td>\n",
              "      <td>0.99050</td>\n",
              "      <td>2.97</td>\n",
              "      <td>0.28</td>\n",
              "      <td>10.8</td>\n",
              "      <td>White Wine</td>\n",
              "    </tr>\n",
              "    <tr>\n",
              "      <th>5</th>\n",
              "      <td>8.4</td>\n",
              "      <td>0.320</td>\n",
              "      <td>0.35</td>\n",
              "      <td>11.70</td>\n",
              "      <td>0.029</td>\n",
              "      <td>3.0</td>\n",
              "      <td>46.0</td>\n",
              "      <td>0.99439</td>\n",
              "      <td>3.02</td>\n",
              "      <td>0.34</td>\n",
              "      <td>11.8</td>\n",
              "      <td>White Wine</td>\n",
              "    </tr>\n",
              "    <tr>\n",
              "      <th>6</th>\n",
              "      <td>7.4</td>\n",
              "      <td>0.300</td>\n",
              "      <td>0.22</td>\n",
              "      <td>5.25</td>\n",
              "      <td>0.053</td>\n",
              "      <td>33.0</td>\n",
              "      <td>180.0</td>\n",
              "      <td>0.99260</td>\n",
              "      <td>3.13</td>\n",
              "      <td>0.45</td>\n",
              "      <td>11.6</td>\n",
              "      <td>White Wine</td>\n",
              "    </tr>\n",
              "    <tr>\n",
              "      <th>7</th>\n",
              "      <td>7.0</td>\n",
              "      <td>0.320</td>\n",
              "      <td>0.29</td>\n",
              "      <td>7.60</td>\n",
              "      <td>0.025</td>\n",
              "      <td>35.0</td>\n",
              "      <td>124.0</td>\n",
              "      <td>0.99162</td>\n",
              "      <td>3.15</td>\n",
              "      <td>0.65</td>\n",
              "      <td>12.8</td>\n",
              "      <td>White Wine</td>\n",
              "    </tr>\n",
              "    <tr>\n",
              "      <th>8</th>\n",
              "      <td>6.7</td>\n",
              "      <td>0.460</td>\n",
              "      <td>0.27</td>\n",
              "      <td>5.20</td>\n",
              "      <td>0.039</td>\n",
              "      <td>35.0</td>\n",
              "      <td>96.0</td>\n",
              "      <td>0.99129</td>\n",
              "      <td>3.16</td>\n",
              "      <td>0.44</td>\n",
              "      <td>12.4</td>\n",
              "      <td>White Wine</td>\n",
              "    </tr>\n",
              "    <tr>\n",
              "      <th>9</th>\n",
              "      <td>6.4</td>\n",
              "      <td>0.250</td>\n",
              "      <td>0.30</td>\n",
              "      <td>5.50</td>\n",
              "      <td>0.038</td>\n",
              "      <td>15.0</td>\n",
              "      <td>129.0</td>\n",
              "      <td>0.99480</td>\n",
              "      <td>3.14</td>\n",
              "      <td>0.49</td>\n",
              "      <td>9.6</td>\n",
              "      <td>White Wine</td>\n",
              "    </tr>\n",
              "    <tr>\n",
              "      <th>10</th>\n",
              "      <td>6.0</td>\n",
              "      <td>0.510</td>\n",
              "      <td>0.00</td>\n",
              "      <td>2.10</td>\n",
              "      <td>0.064</td>\n",
              "      <td>40.0</td>\n",
              "      <td>54.0</td>\n",
              "      <td>0.99500</td>\n",
              "      <td>3.54</td>\n",
              "      <td>0.93</td>\n",
              "      <td>10.7</td>\n",
              "      <td>Red Wine</td>\n",
              "    </tr>\n",
              "    <tr>\n",
              "      <th>11</th>\n",
              "      <td>7.8</td>\n",
              "      <td>0.300</td>\n",
              "      <td>0.29</td>\n",
              "      <td>16.85</td>\n",
              "      <td>0.054</td>\n",
              "      <td>23.0</td>\n",
              "      <td>135.0</td>\n",
              "      <td>0.99980</td>\n",
              "      <td>3.16</td>\n",
              "      <td>0.38</td>\n",
              "      <td>9.0</td>\n",
              "      <td>White Wine</td>\n",
              "    </tr>\n",
              "    <tr>\n",
              "      <th>12</th>\n",
              "      <td>6.7</td>\n",
              "      <td>0.310</td>\n",
              "      <td>0.31</td>\n",
              "      <td>9.90</td>\n",
              "      <td>0.040</td>\n",
              "      <td>10.0</td>\n",
              "      <td>175.0</td>\n",
              "      <td>0.99530</td>\n",
              "      <td>3.46</td>\n",
              "      <td>0.55</td>\n",
              "      <td>11.4</td>\n",
              "      <td>White Wine</td>\n",
              "    </tr>\n",
              "    <tr>\n",
              "      <th>13</th>\n",
              "      <td>6.8</td>\n",
              "      <td>0.690</td>\n",
              "      <td>0.00</td>\n",
              "      <td>5.60</td>\n",
              "      <td>0.124</td>\n",
              "      <td>21.0</td>\n",
              "      <td>58.0</td>\n",
              "      <td>0.99970</td>\n",
              "      <td>3.46</td>\n",
              "      <td>0.72</td>\n",
              "      <td>10.2</td>\n",
              "      <td>Red Wine</td>\n",
              "    </tr>\n",
              "    <tr>\n",
              "      <th>14</th>\n",
              "      <td>7.3</td>\n",
              "      <td>0.480</td>\n",
              "      <td>0.32</td>\n",
              "      <td>2.10</td>\n",
              "      <td>0.062</td>\n",
              "      <td>31.0</td>\n",
              "      <td>54.0</td>\n",
              "      <td>0.99728</td>\n",
              "      <td>3.30</td>\n",
              "      <td>0.65</td>\n",
              "      <td>10.0</td>\n",
              "      <td>Red Wine</td>\n",
              "    </tr>\n",
              "  </tbody>\n",
              "</table>\n",
              "</div>\n",
              "      <button class=\"colab-df-convert\" onclick=\"convertToInteractive('df-3cc79daa-4e58-49cb-9ccf-87ac6fd6443d')\"\n",
              "              title=\"Convert this dataframe to an interactive table.\"\n",
              "              style=\"display:none;\">\n",
              "\n",
              "  <svg xmlns=\"http://www.w3.org/2000/svg\" height=\"24px\"viewBox=\"0 0 24 24\"\n",
              "       width=\"24px\">\n",
              "    <path d=\"M0 0h24v24H0V0z\" fill=\"none\"/>\n",
              "    <path d=\"M18.56 5.44l.94 2.06.94-2.06 2.06-.94-2.06-.94-.94-2.06-.94 2.06-2.06.94zm-11 1L8.5 8.5l.94-2.06 2.06-.94-2.06-.94L8.5 2.5l-.94 2.06-2.06.94zm10 10l.94 2.06.94-2.06 2.06-.94-2.06-.94-.94-2.06-.94 2.06-2.06.94z\"/><path d=\"M17.41 7.96l-1.37-1.37c-.4-.4-.92-.59-1.43-.59-.52 0-1.04.2-1.43.59L10.3 9.45l-7.72 7.72c-.78.78-.78 2.05 0 2.83L4 21.41c.39.39.9.59 1.41.59.51 0 1.02-.2 1.41-.59l7.78-7.78 2.81-2.81c.8-.78.8-2.07 0-2.86zM5.41 20L4 18.59l7.72-7.72 1.47 1.35L5.41 20z\"/>\n",
              "  </svg>\n",
              "      </button>\n",
              "\n",
              "\n",
              "\n",
              "    <div id=\"df-3ce03a31-6ddc-4287-baf9-a9a17ee5bf4e\">\n",
              "      <button class=\"colab-df-quickchart\" onclick=\"quickchart('df-3ce03a31-6ddc-4287-baf9-a9a17ee5bf4e')\"\n",
              "              title=\"Suggest charts.\"\n",
              "              style=\"display:none;\">\n",
              "\n",
              "<svg xmlns=\"http://www.w3.org/2000/svg\" height=\"24px\"viewBox=\"0 0 24 24\"\n",
              "     width=\"24px\">\n",
              "    <g>\n",
              "        <path d=\"M19 3H5c-1.1 0-2 .9-2 2v14c0 1.1.9 2 2 2h14c1.1 0 2-.9 2-2V5c0-1.1-.9-2-2-2zM9 17H7v-7h2v7zm4 0h-2V7h2v10zm4 0h-2v-4h2v4z\"/>\n",
              "    </g>\n",
              "</svg>\n",
              "      </button>\n",
              "    </div>\n",
              "\n",
              "<style>\n",
              "  .colab-df-quickchart {\n",
              "    background-color: #E8F0FE;\n",
              "    border: none;\n",
              "    border-radius: 50%;\n",
              "    cursor: pointer;\n",
              "    display: none;\n",
              "    fill: #1967D2;\n",
              "    height: 32px;\n",
              "    padding: 0 0 0 0;\n",
              "    width: 32px;\n",
              "  }\n",
              "\n",
              "  .colab-df-quickchart:hover {\n",
              "    background-color: #E2EBFA;\n",
              "    box-shadow: 0px 1px 2px rgba(60, 64, 67, 0.3), 0px 1px 3px 1px rgba(60, 64, 67, 0.15);\n",
              "    fill: #174EA6;\n",
              "  }\n",
              "\n",
              "  [theme=dark] .colab-df-quickchart {\n",
              "    background-color: #3B4455;\n",
              "    fill: #D2E3FC;\n",
              "  }\n",
              "\n",
              "  [theme=dark] .colab-df-quickchart:hover {\n",
              "    background-color: #434B5C;\n",
              "    box-shadow: 0px 1px 3px 1px rgba(0, 0, 0, 0.15);\n",
              "    filter: drop-shadow(0px 1px 2px rgba(0, 0, 0, 0.3));\n",
              "    fill: #FFFFFF;\n",
              "  }\n",
              "</style>\n",
              "\n",
              "    <script>\n",
              "      async function quickchart(key) {\n",
              "        const containerElement = document.querySelector('#' + key);\n",
              "        const charts = await google.colab.kernel.invokeFunction(\n",
              "            'suggestCharts', [key], {});\n",
              "      }\n",
              "    </script>\n",
              "\n",
              "      <script>\n",
              "\n",
              "function displayQuickchartButton(domScope) {\n",
              "  let quickchartButtonEl =\n",
              "    domScope.querySelector('#df-3ce03a31-6ddc-4287-baf9-a9a17ee5bf4e button.colab-df-quickchart');\n",
              "  quickchartButtonEl.style.display =\n",
              "    google.colab.kernel.accessAllowed ? 'block' : 'none';\n",
              "}\n",
              "\n",
              "        displayQuickchartButton(document);\n",
              "      </script>\n",
              "      <style>\n",
              "    .colab-df-container {\n",
              "      display:flex;\n",
              "      flex-wrap:wrap;\n",
              "      gap: 12px;\n",
              "    }\n",
              "\n",
              "    .colab-df-convert {\n",
              "      background-color: #E8F0FE;\n",
              "      border: none;\n",
              "      border-radius: 50%;\n",
              "      cursor: pointer;\n",
              "      display: none;\n",
              "      fill: #1967D2;\n",
              "      height: 32px;\n",
              "      padding: 0 0 0 0;\n",
              "      width: 32px;\n",
              "    }\n",
              "\n",
              "    .colab-df-convert:hover {\n",
              "      background-color: #E2EBFA;\n",
              "      box-shadow: 0px 1px 2px rgba(60, 64, 67, 0.3), 0px 1px 3px 1px rgba(60, 64, 67, 0.15);\n",
              "      fill: #174EA6;\n",
              "    }\n",
              "\n",
              "    [theme=dark] .colab-df-convert {\n",
              "      background-color: #3B4455;\n",
              "      fill: #D2E3FC;\n",
              "    }\n",
              "\n",
              "    [theme=dark] .colab-df-convert:hover {\n",
              "      background-color: #434B5C;\n",
              "      box-shadow: 0px 1px 3px 1px rgba(0, 0, 0, 0.15);\n",
              "      filter: drop-shadow(0px 1px 2px rgba(0, 0, 0, 0.3));\n",
              "      fill: #FFFFFF;\n",
              "    }\n",
              "  </style>\n",
              "\n",
              "      <script>\n",
              "        const buttonEl =\n",
              "          document.querySelector('#df-3cc79daa-4e58-49cb-9ccf-87ac6fd6443d button.colab-df-convert');\n",
              "        buttonEl.style.display =\n",
              "          google.colab.kernel.accessAllowed ? 'block' : 'none';\n",
              "\n",
              "        async function convertToInteractive(key) {\n",
              "          const element = document.querySelector('#df-3cc79daa-4e58-49cb-9ccf-87ac6fd6443d');\n",
              "          const dataTable =\n",
              "            await google.colab.kernel.invokeFunction('convertToInteractive',\n",
              "                                                     [key], {});\n",
              "          if (!dataTable) return;\n",
              "\n",
              "          const docLinkHtml = 'Like what you see? Visit the ' +\n",
              "            '<a target=\"_blank\" href=https://colab.research.google.com/notebooks/data_table.ipynb>data table notebook</a>'\n",
              "            + ' to learn more about interactive tables.';\n",
              "          element.innerHTML = '';\n",
              "          dataTable['output_type'] = 'display_data';\n",
              "          await google.colab.output.renderOutput(dataTable, element);\n",
              "          const docLink = document.createElement('div');\n",
              "          docLink.innerHTML = docLinkHtml;\n",
              "          element.appendChild(docLink);\n",
              "        }\n",
              "      </script>\n",
              "    </div>\n",
              "  </div>\n"
            ]
          },
          "metadata": {},
          "execution_count": 7
        }
      ],
      "source": [
        "X.head(15)"
      ]
    },
    {
      "cell_type": "code",
      "execution_count": null,
      "metadata": {
        "colab": {
          "base_uri": "https://localhost:8080/"
        },
        "id": "aKnQoSldpjtx",
        "outputId": "8f1252c2-9608-4436-f88c-142cdc9ca813"
      },
      "outputs": [
        {
          "output_type": "stream",
          "name": "stdout",
          "text": [
            "<class 'pandas.core.frame.DataFrame'>\n",
            "RangeIndex: 32485 entries, 0 to 32484\n",
            "Data columns (total 14 columns):\n",
            " #   Column                Non-Null Count  Dtype  \n",
            "---  ------                --------------  -----  \n",
            " 0   Unnamed: 0            32485 non-null  int64  \n",
            " 1   fixed acidity         32485 non-null  float64\n",
            " 2   volatile acidity      32485 non-null  float64\n",
            " 3   citric acid           32485 non-null  float64\n",
            " 4   residual sugar        32485 non-null  float64\n",
            " 5   chlorides             32485 non-null  float64\n",
            " 6   free sulfur dioxide   32485 non-null  float64\n",
            " 7   total sulfur dioxide  32485 non-null  float64\n",
            " 8   density               32485 non-null  float64\n",
            " 9   pH                    32485 non-null  float64\n",
            " 10  sulphates             32485 non-null  float64\n",
            " 11  alcohol               32485 non-null  float64\n",
            " 12  quality               32485 non-null  int64  \n",
            " 13  Type                  32485 non-null  object \n",
            "dtypes: float64(11), int64(2), object(1)\n",
            "memory usage: 3.5+ MB\n"
          ]
        }
      ],
      "source": [
        "data.info()"
      ]
    },
    {
      "cell_type": "code",
      "execution_count": null,
      "metadata": {
        "id": "OIcNsI1PqZHL"
      },
      "outputs": [],
      "source": [
        "X_train, X_test, y_train, y_test = train_test_split(X, y, test_size= 0.2)\n"
      ]
    },
    {
      "cell_type": "code",
      "execution_count": null,
      "metadata": {
        "colab": {
          "base_uri": "https://localhost:8080/"
        },
        "id": "wqoVcyOpsXhH",
        "outputId": "02597044-337e-456d-8c7a-be1d64e44c21"
      },
      "outputs": [
        {
          "output_type": "stream",
          "name": "stdout",
          "text": [
            "<class 'pandas.core.frame.DataFrame'>\n",
            "RangeIndex: 32485 entries, 0 to 32484\n",
            "Data columns (total 12 columns):\n",
            " #   Column                Non-Null Count  Dtype  \n",
            "---  ------                --------------  -----  \n",
            " 0   fixed acidity         32485 non-null  float64\n",
            " 1   volatile acidity      32485 non-null  float64\n",
            " 2   citric acid           32485 non-null  float64\n",
            " 3   residual sugar        32485 non-null  float64\n",
            " 4   chlorides             32485 non-null  float64\n",
            " 5   free sulfur dioxide   32485 non-null  float64\n",
            " 6   total sulfur dioxide  32485 non-null  float64\n",
            " 7   density               32485 non-null  float64\n",
            " 8   pH                    32485 non-null  float64\n",
            " 9   sulphates             32485 non-null  float64\n",
            " 10  alcohol               32485 non-null  float64\n",
            " 11  Type                  32485 non-null  object \n",
            "dtypes: float64(11), object(1)\n",
            "memory usage: 3.0+ MB\n"
          ]
        }
      ],
      "source": [
        "X.info()"
      ]
    },
    {
      "cell_type": "code",
      "execution_count": null,
      "metadata": {
        "colab": {
          "base_uri": "https://localhost:8080/",
          "height": 119
        },
        "id": "vMtQZw32rOXs",
        "outputId": "2ab0351f-8d39-4cf9-b606-62aac361af67"
      },
      "outputs": [
        {
          "output_type": "execute_result",
          "data": {
            "text/plain": [
              "ColumnTransformer(remainder='passthrough',\n",
              "                  transformers=[('minmaxscaler', MinMaxScaler(),\n",
              "                                 [0, 1, 2, 3, 4, 5, 6, 7, 8, 9, 10]),\n",
              "                                ('onehotencoder', OneHotEncoder(), [11])])"
            ],
            "text/html": [
              "<style>#sk-container-id-1 {color: black;background-color: white;}#sk-container-id-1 pre{padding: 0;}#sk-container-id-1 div.sk-toggleable {background-color: white;}#sk-container-id-1 label.sk-toggleable__label {cursor: pointer;display: block;width: 100%;margin-bottom: 0;padding: 0.3em;box-sizing: border-box;text-align: center;}#sk-container-id-1 label.sk-toggleable__label-arrow:before {content: \"▸\";float: left;margin-right: 0.25em;color: #696969;}#sk-container-id-1 label.sk-toggleable__label-arrow:hover:before {color: black;}#sk-container-id-1 div.sk-estimator:hover label.sk-toggleable__label-arrow:before {color: black;}#sk-container-id-1 div.sk-toggleable__content {max-height: 0;max-width: 0;overflow: hidden;text-align: left;background-color: #f0f8ff;}#sk-container-id-1 div.sk-toggleable__content pre {margin: 0.2em;color: black;border-radius: 0.25em;background-color: #f0f8ff;}#sk-container-id-1 input.sk-toggleable__control:checked~div.sk-toggleable__content {max-height: 200px;max-width: 100%;overflow: auto;}#sk-container-id-1 input.sk-toggleable__control:checked~label.sk-toggleable__label-arrow:before {content: \"▾\";}#sk-container-id-1 div.sk-estimator input.sk-toggleable__control:checked~label.sk-toggleable__label {background-color: #d4ebff;}#sk-container-id-1 div.sk-label input.sk-toggleable__control:checked~label.sk-toggleable__label {background-color: #d4ebff;}#sk-container-id-1 input.sk-hidden--visually {border: 0;clip: rect(1px 1px 1px 1px);clip: rect(1px, 1px, 1px, 1px);height: 1px;margin: -1px;overflow: hidden;padding: 0;position: absolute;width: 1px;}#sk-container-id-1 div.sk-estimator {font-family: monospace;background-color: #f0f8ff;border: 1px dotted black;border-radius: 0.25em;box-sizing: border-box;margin-bottom: 0.5em;}#sk-container-id-1 div.sk-estimator:hover {background-color: #d4ebff;}#sk-container-id-1 div.sk-parallel-item::after {content: \"\";width: 100%;border-bottom: 1px solid gray;flex-grow: 1;}#sk-container-id-1 div.sk-label:hover label.sk-toggleable__label {background-color: #d4ebff;}#sk-container-id-1 div.sk-serial::before {content: \"\";position: absolute;border-left: 1px solid gray;box-sizing: border-box;top: 0;bottom: 0;left: 50%;z-index: 0;}#sk-container-id-1 div.sk-serial {display: flex;flex-direction: column;align-items: center;background-color: white;padding-right: 0.2em;padding-left: 0.2em;position: relative;}#sk-container-id-1 div.sk-item {position: relative;z-index: 1;}#sk-container-id-1 div.sk-parallel {display: flex;align-items: stretch;justify-content: center;background-color: white;position: relative;}#sk-container-id-1 div.sk-item::before, #sk-container-id-1 div.sk-parallel-item::before {content: \"\";position: absolute;border-left: 1px solid gray;box-sizing: border-box;top: 0;bottom: 0;left: 50%;z-index: -1;}#sk-container-id-1 div.sk-parallel-item {display: flex;flex-direction: column;z-index: 1;position: relative;background-color: white;}#sk-container-id-1 div.sk-parallel-item:first-child::after {align-self: flex-end;width: 50%;}#sk-container-id-1 div.sk-parallel-item:last-child::after {align-self: flex-start;width: 50%;}#sk-container-id-1 div.sk-parallel-item:only-child::after {width: 0;}#sk-container-id-1 div.sk-dashed-wrapped {border: 1px dashed gray;margin: 0 0.4em 0.5em 0.4em;box-sizing: border-box;padding-bottom: 0.4em;background-color: white;}#sk-container-id-1 div.sk-label label {font-family: monospace;font-weight: bold;display: inline-block;line-height: 1.2em;}#sk-container-id-1 div.sk-label-container {text-align: center;}#sk-container-id-1 div.sk-container {/* jupyter's `normalize.less` sets `[hidden] { display: none; }` but bootstrap.min.css set `[hidden] { display: none !important; }` so we also need the `!important` here to be able to override the default hidden behavior on the sphinx rendered scikit-learn.org. See: https://github.com/scikit-learn/scikit-learn/issues/21755 */display: inline-block !important;position: relative;}#sk-container-id-1 div.sk-text-repr-fallback {display: none;}</style><div id=\"sk-container-id-1\" class=\"sk-top-container\"><div class=\"sk-text-repr-fallback\"><pre>ColumnTransformer(remainder=&#x27;passthrough&#x27;,\n",
              "                  transformers=[(&#x27;minmaxscaler&#x27;, MinMaxScaler(),\n",
              "                                 [0, 1, 2, 3, 4, 5, 6, 7, 8, 9, 10]),\n",
              "                                (&#x27;onehotencoder&#x27;, OneHotEncoder(), [11])])</pre><b>In a Jupyter environment, please rerun this cell to show the HTML representation or trust the notebook. <br />On GitHub, the HTML representation is unable to render, please try loading this page with nbviewer.org.</b></div><div class=\"sk-container\" hidden><div class=\"sk-item sk-dashed-wrapped\"><div class=\"sk-label-container\"><div class=\"sk-label sk-toggleable\"><input class=\"sk-toggleable__control sk-hidden--visually\" id=\"sk-estimator-id-1\" type=\"checkbox\" ><label for=\"sk-estimator-id-1\" class=\"sk-toggleable__label sk-toggleable__label-arrow\">ColumnTransformer</label><div class=\"sk-toggleable__content\"><pre>ColumnTransformer(remainder=&#x27;passthrough&#x27;,\n",
              "                  transformers=[(&#x27;minmaxscaler&#x27;, MinMaxScaler(),\n",
              "                                 [0, 1, 2, 3, 4, 5, 6, 7, 8, 9, 10]),\n",
              "                                (&#x27;onehotencoder&#x27;, OneHotEncoder(), [11])])</pre></div></div></div><div class=\"sk-parallel\"><div class=\"sk-parallel-item\"><div class=\"sk-item\"><div class=\"sk-label-container\"><div class=\"sk-label sk-toggleable\"><input class=\"sk-toggleable__control sk-hidden--visually\" id=\"sk-estimator-id-2\" type=\"checkbox\" ><label for=\"sk-estimator-id-2\" class=\"sk-toggleable__label sk-toggleable__label-arrow\">minmaxscaler</label><div class=\"sk-toggleable__content\"><pre>[0, 1, 2, 3, 4, 5, 6, 7, 8, 9, 10]</pre></div></div></div><div class=\"sk-serial\"><div class=\"sk-item\"><div class=\"sk-estimator sk-toggleable\"><input class=\"sk-toggleable__control sk-hidden--visually\" id=\"sk-estimator-id-3\" type=\"checkbox\" ><label for=\"sk-estimator-id-3\" class=\"sk-toggleable__label sk-toggleable__label-arrow\">MinMaxScaler</label><div class=\"sk-toggleable__content\"><pre>MinMaxScaler()</pre></div></div></div></div></div></div><div class=\"sk-parallel-item\"><div class=\"sk-item\"><div class=\"sk-label-container\"><div class=\"sk-label sk-toggleable\"><input class=\"sk-toggleable__control sk-hidden--visually\" id=\"sk-estimator-id-4\" type=\"checkbox\" ><label for=\"sk-estimator-id-4\" class=\"sk-toggleable__label sk-toggleable__label-arrow\">onehotencoder</label><div class=\"sk-toggleable__content\"><pre>[11]</pre></div></div></div><div class=\"sk-serial\"><div class=\"sk-item\"><div class=\"sk-estimator sk-toggleable\"><input class=\"sk-toggleable__control sk-hidden--visually\" id=\"sk-estimator-id-5\" type=\"checkbox\" ><label for=\"sk-estimator-id-5\" class=\"sk-toggleable__label sk-toggleable__label-arrow\">OneHotEncoder</label><div class=\"sk-toggleable__content\"><pre>OneHotEncoder()</pre></div></div></div></div></div></div><div class=\"sk-parallel-item\"><div class=\"sk-item\"><div class=\"sk-label-container\"><div class=\"sk-label sk-toggleable\"><input class=\"sk-toggleable__control sk-hidden--visually\" id=\"sk-estimator-id-6\" type=\"checkbox\" ><label for=\"sk-estimator-id-6\" class=\"sk-toggleable__label sk-toggleable__label-arrow\">remainder</label><div class=\"sk-toggleable__content\"><pre>[]</pre></div></div></div><div class=\"sk-serial\"><div class=\"sk-item\"><div class=\"sk-estimator sk-toggleable\"><input class=\"sk-toggleable__control sk-hidden--visually\" id=\"sk-estimator-id-7\" type=\"checkbox\" ><label for=\"sk-estimator-id-7\" class=\"sk-toggleable__label sk-toggleable__label-arrow\">passthrough</label><div class=\"sk-toggleable__content\"><pre>passthrough</pre></div></div></div></div></div></div></div></div></div></div>"
            ]
          },
          "metadata": {},
          "execution_count": 11
        }
      ],
      "source": [
        "ct = make_column_transformer(\n",
        "    (MinMaxScaler(), [0, 1, 2, 3, 4, 5, 6, 7, 8, 9, 10]),\n",
        "    (OneHotEncoder(), [11]),\n",
        "    remainder = \"passthrough\"\n",
        ")\n",
        "ct.fit(X_train)"
      ]
    },
    {
      "cell_type": "code",
      "execution_count": null,
      "metadata": {
        "colab": {
          "base_uri": "https://localhost:8080/"
        },
        "id": "z6NgoteVrmL7",
        "outputId": "884864a8-e13d-4b18-9512-a6293aaad91b"
      },
      "outputs": [
        {
          "output_type": "execute_result",
          "data": {
            "text/plain": [
              "((25988, 13), (25988, 1))"
            ]
          },
          "metadata": {},
          "execution_count": 12
        }
      ],
      "source": [
        "X_train_norm = ct.transform(X_train)\n",
        "X_test_norm = ct.transform(X_test)\n",
        "X_train_norm.shape, y_train.shape"
      ]
    },
    {
      "cell_type": "code",
      "execution_count": null,
      "metadata": {
        "colab": {
          "base_uri": "https://localhost:8080/"
        },
        "id": "InK1L_8F4vKE",
        "outputId": "67bb8577-3dba-46c0-be5a-b59fac459d3d"
      },
      "outputs": [
        {
          "output_type": "execute_result",
          "data": {
            "text/plain": [
              "array([[0.67768595, 0.20666667, 0.39759036, ..., 0.4057971 , 1.        ,\n",
              "        0.        ],\n",
              "       [0.30578512, 0.40333333, 0.04216867, ..., 0.42028986, 1.        ,\n",
              "        0.        ],\n",
              "       [0.32231405, 0.1       , 0.22289157, ..., 0.5942029 , 1.        ,\n",
              "        0.        ],\n",
              "       ...,\n",
              "       [0.51239669, 0.32      , 0.14457831, ..., 0.30434783, 1.        ,\n",
              "        0.        ],\n",
              "       [0.38016529, 0.32666667, 0.26506024, ..., 0.34782609, 0.        ,\n",
              "        1.        ],\n",
              "       [0.27272727, 0.34666667, 0.0060241 , ..., 0.42028986, 1.        ,\n",
              "        0.        ]])"
            ]
          },
          "metadata": {},
          "execution_count": 13
        }
      ],
      "source": [
        "X_train_norm"
      ]
    },
    {
      "cell_type": "code",
      "execution_count": null,
      "metadata": {
        "colab": {
          "base_uri": "https://localhost:8080/"
        },
        "id": "u2yfmA_mwO6h",
        "outputId": "f5a4d738-4c3a-4c15-d29f-fc0b2b827cd2"
      },
      "outputs": [
        {
          "output_type": "execute_result",
          "data": {
            "text/plain": [
              "((6497, 13), (6497, 1))"
            ]
          },
          "metadata": {},
          "execution_count": 14
        }
      ],
      "source": [
        "X_test_norm.shape, y_test.shape"
      ]
    },
    {
      "cell_type": "code",
      "execution_count": null,
      "metadata": {
        "colab": {
          "base_uri": "https://localhost:8080/"
        },
        "id": "odIWxbcroALy",
        "outputId": "886880f0-3448-43b4-a0da-49c08555436f"
      },
      "outputs": [
        {
          "output_type": "execute_result",
          "data": {
            "text/plain": [
              "array([7, 4, 6, 5, 8, 9, 3])"
            ]
          },
          "metadata": {},
          "execution_count": 15
        }
      ],
      "source": [
        "y_train.quality.unique()"
      ]
    },
    {
      "cell_type": "code",
      "execution_count": null,
      "metadata": {
        "colab": {
          "base_uri": "https://localhost:8080/"
        },
        "id": "nnRP7Xb_tV05",
        "outputId": "3a84d3dc-ab87-4388-c3b5-b90c82daab95"
      },
      "outputs": [
        {
          "output_type": "stream",
          "name": "stdout",
          "text": [
            "Epoch 1/50\n",
            "813/813 [==============================] - 6s 5ms/step - loss: 0.1592 - mae: 5.2621 - val_loss: -24.7221 - val_mae: 4.8230\n",
            "Epoch 2/50\n",
            "813/813 [==============================] - 3s 4ms/step - loss: -63.9939 - mae: 4.3762 - val_loss: -72.8551 - val_mae: 4.2031\n",
            "Epoch 3/50\n",
            "813/813 [==============================] - 2s 2ms/step - loss: -73.1322 - mae: 4.1694 - val_loss: -73.1490 - val_mae: 4.1124\n",
            "Epoch 4/50\n",
            "813/813 [==============================] - 2s 2ms/step - loss: -73.3273 - mae: 4.0986 - val_loss: -73.2151 - val_mae: 4.0705\n",
            "Epoch 5/50\n",
            "813/813 [==============================] - 2s 3ms/step - loss: -73.3796 - mae: 4.0709 - val_loss: -73.2182 - val_mae: 4.0604\n",
            "Epoch 6/50\n",
            "813/813 [==============================] - 2s 3ms/step - loss: -73.3853 - mae: 4.0524 - val_loss: -73.2490 - val_mae: 4.0347\n",
            "Epoch 7/50\n",
            "813/813 [==============================] - 2s 2ms/step - loss: -73.4008 - mae: 4.0387 - val_loss: -73.2492 - val_mae: 4.0303\n",
            "Epoch 8/50\n",
            "813/813 [==============================] - 2s 2ms/step - loss: -73.4010 - mae: 4.0325 - val_loss: -73.2558 - val_mae: 4.0181\n",
            "Epoch 9/50\n",
            "813/813 [==============================] - 2s 2ms/step - loss: -73.4042 - mae: 4.0239 - val_loss: -73.2558 - val_mae: 4.0181\n",
            "Epoch 10/50\n",
            "813/813 [==============================] - 2s 2ms/step - loss: -73.4042 - mae: 4.0239 - val_loss: -73.2558 - val_mae: 4.0181\n",
            "Epoch 11/50\n",
            "813/813 [==============================] - 2s 2ms/step - loss: -73.4042 - mae: 4.0239 - val_loss: -73.2558 - val_mae: 4.0181\n",
            "Epoch 12/50\n",
            "813/813 [==============================] - 2s 3ms/step - loss: -73.4042 - mae: 4.0239 - val_loss: -73.2558 - val_mae: 4.0181\n",
            "Epoch 13/50\n",
            "813/813 [==============================] - 2s 3ms/step - loss: -73.4042 - mae: 4.0239 - val_loss: -73.2558 - val_mae: 4.0181\n",
            "Epoch 14/50\n",
            "813/813 [==============================] - 2s 2ms/step - loss: -73.4042 - mae: 4.0239 - val_loss: -73.2558 - val_mae: 4.0181\n",
            "Epoch 15/50\n",
            "813/813 [==============================] - 2s 2ms/step - loss: -73.4042 - mae: 4.0239 - val_loss: -73.2558 - val_mae: 4.0181\n",
            "Epoch 16/50\n",
            "813/813 [==============================] - 2s 2ms/step - loss: -73.4042 - mae: 4.0239 - val_loss: -73.2558 - val_mae: 4.0181\n",
            "Epoch 17/50\n",
            "813/813 [==============================] - 2s 2ms/step - loss: -73.4042 - mae: 4.0239 - val_loss: -73.2558 - val_mae: 4.0181\n",
            "Epoch 18/50\n",
            "813/813 [==============================] - 2s 2ms/step - loss: -73.4042 - mae: 4.0239 - val_loss: -73.2558 - val_mae: 4.0181\n",
            "Epoch 19/50\n",
            "813/813 [==============================] - 2s 2ms/step - loss: -73.4042 - mae: 4.0239 - val_loss: -73.2558 - val_mae: 4.0181\n",
            "Epoch 20/50\n",
            "813/813 [==============================] - 2s 3ms/step - loss: -73.4042 - mae: 4.0239 - val_loss: -73.2558 - val_mae: 4.0181\n",
            "Epoch 21/50\n",
            "813/813 [==============================] - 2s 2ms/step - loss: -73.4042 - mae: 4.0239 - val_loss: -73.2558 - val_mae: 4.0181\n",
            "Epoch 22/50\n",
            "813/813 [==============================] - 2s 2ms/step - loss: -73.4042 - mae: 4.0239 - val_loss: -73.2558 - val_mae: 4.0181\n",
            "Epoch 23/50\n",
            "813/813 [==============================] - 2s 2ms/step - loss: -73.4042 - mae: 4.0239 - val_loss: -73.2558 - val_mae: 4.0181\n",
            "Epoch 24/50\n",
            "813/813 [==============================] - 2s 2ms/step - loss: -73.4042 - mae: 4.0239 - val_loss: -73.2558 - val_mae: 4.0181\n",
            "Epoch 25/50\n",
            "813/813 [==============================] - 2s 2ms/step - loss: -73.4042 - mae: 4.0239 - val_loss: -73.2558 - val_mae: 4.0181\n",
            "Epoch 26/50\n",
            "813/813 [==============================] - 2s 3ms/step - loss: -73.4042 - mae: 4.0239 - val_loss: -73.2558 - val_mae: 4.0181\n",
            "Epoch 27/50\n",
            "813/813 [==============================] - 2s 3ms/step - loss: -73.4042 - mae: 4.0239 - val_loss: -73.2558 - val_mae: 4.0181\n",
            "Epoch 28/50\n",
            "813/813 [==============================] - 2s 2ms/step - loss: -73.4042 - mae: 4.0239 - val_loss: -73.2558 - val_mae: 4.0181\n",
            "Epoch 29/50\n",
            "813/813 [==============================] - 2s 2ms/step - loss: -73.4042 - mae: 4.0239 - val_loss: -73.2558 - val_mae: 4.0181\n",
            "Epoch 30/50\n",
            "813/813 [==============================] - 2s 2ms/step - loss: -73.4042 - mae: 4.0239 - val_loss: -73.2558 - val_mae: 4.0181\n",
            "Epoch 31/50\n",
            "813/813 [==============================] - 2s 2ms/step - loss: -73.4042 - mae: 4.0239 - val_loss: -73.2558 - val_mae: 4.0181\n",
            "Epoch 32/50\n",
            "813/813 [==============================] - 2s 2ms/step - loss: -73.4042 - mae: 4.0239 - val_loss: -73.2558 - val_mae: 4.0181\n",
            "Epoch 33/50\n",
            "813/813 [==============================] - 2s 2ms/step - loss: -73.4042 - mae: 4.0239 - val_loss: -73.2558 - val_mae: 4.0181\n",
            "Epoch 34/50\n",
            "813/813 [==============================] - 2s 3ms/step - loss: -73.4042 - mae: 4.0239 - val_loss: -73.2558 - val_mae: 4.0181\n",
            "Epoch 35/50\n",
            "813/813 [==============================] - 2s 2ms/step - loss: -73.4042 - mae: 4.0239 - val_loss: -73.2558 - val_mae: 4.0181\n",
            "Epoch 36/50\n",
            "813/813 [==============================] - 2s 2ms/step - loss: -73.4042 - mae: 4.0239 - val_loss: -73.2558 - val_mae: 4.0181\n",
            "Epoch 37/50\n",
            "813/813 [==============================] - 2s 2ms/step - loss: -73.4042 - mae: 4.0239 - val_loss: -73.2558 - val_mae: 4.0181\n",
            "Epoch 38/50\n",
            "813/813 [==============================] - 2s 2ms/step - loss: -73.4042 - mae: 4.0239 - val_loss: -73.2558 - val_mae: 4.0181\n",
            "Epoch 39/50\n",
            "813/813 [==============================] - 2s 2ms/step - loss: -73.4042 - mae: 4.0239 - val_loss: -73.2558 - val_mae: 4.0181\n",
            "Epoch 40/50\n",
            "813/813 [==============================] - 2s 3ms/step - loss: -73.4042 - mae: 4.0239 - val_loss: -73.2558 - val_mae: 4.0181\n",
            "Epoch 41/50\n",
            "813/813 [==============================] - 2s 3ms/step - loss: -73.4042 - mae: 4.0239 - val_loss: -73.2558 - val_mae: 4.0181\n",
            "Epoch 42/50\n",
            "813/813 [==============================] - 2s 2ms/step - loss: -73.4042 - mae: 4.0239 - val_loss: -73.2558 - val_mae: 4.0181\n",
            "Epoch 43/50\n",
            "813/813 [==============================] - 2s 2ms/step - loss: -73.4042 - mae: 4.0239 - val_loss: -73.2558 - val_mae: 4.0181\n",
            "Epoch 44/50\n",
            "813/813 [==============================] - 2s 2ms/step - loss: -73.4042 - mae: 4.0239 - val_loss: -73.2558 - val_mae: 4.0181\n",
            "Epoch 45/50\n",
            "813/813 [==============================] - 2s 2ms/step - loss: -73.4042 - mae: 4.0239 - val_loss: -73.2558 - val_mae: 4.0181\n",
            "Epoch 46/50\n",
            "813/813 [==============================] - 2s 2ms/step - loss: -73.4042 - mae: 4.0239 - val_loss: -73.2558 - val_mae: 4.0181\n",
            "Epoch 47/50\n",
            "813/813 [==============================] - 2s 2ms/step - loss: -73.4042 - mae: 4.0239 - val_loss: -73.2558 - val_mae: 4.0181\n",
            "Epoch 48/50\n",
            "813/813 [==============================] - 2s 3ms/step - loss: -73.4042 - mae: 4.0239 - val_loss: -73.2558 - val_mae: 4.0181\n",
            "Epoch 49/50\n",
            "813/813 [==============================] - 2s 2ms/step - loss: -73.4042 - mae: 4.0239 - val_loss: -73.2558 - val_mae: 4.0181\n",
            "Epoch 50/50\n",
            "813/813 [==============================] - 2s 3ms/step - loss: -73.4042 - mae: 4.0239 - val_loss: -73.2558 - val_mae: 4.0181\n"
          ]
        },
        {
          "output_type": "execute_result",
          "data": {
            "text/plain": [
              "<keras.callbacks.History at 0x79bea1f4cfd0>"
            ]
          },
          "metadata": {},
          "execution_count": 21
        }
      ],
      "source": [
        "model = tf.keras.Sequential([\n",
        "    tf.keras.layers.Dense(1)\n",
        "])\n",
        "model.compile(loss = tf.keras.losses.binary_crossentropy,\n",
        "              optimizer = tf.keras.optimizers.Adam(),\n",
        "              metrics = ['mae'])\n",
        "model.fit(X_train_norm, y_train,\n",
        "          epochs = 50,\n",
        "          validation_data = [X_test_norm, y_test])"
      ]
    },
    {
      "cell_type": "code",
      "execution_count": null,
      "metadata": {
        "id": "CCg1xlZMuQzK"
      },
      "outputs": [],
      "source": [
        "from sklearn.ensemble import RandomForestClassifier\n",
        "\n",
        "model = RandomForestClassifier()\n",
        "model.fit(X_train_norm, y_train)\n",
        "print(f\"Accuracy: {model.score(X_test_norm, y_test)*100} %\")"
      ]
    },
    {
      "cell_type": "code",
      "execution_count": null,
      "metadata": {
        "id": "jvoEERC8yJyf"
      },
      "outputs": [],
      "source": [
        "from sklearn.tree import DecisionTreeClassifier\n",
        "\n",
        "model1 = DecisionTreeClassifier()\n",
        "model1.fit(X_train_norm, y_train)\n",
        "print(f\"Test Accuracy: {model1.score(X_test_norm, y_test)*100} %\")"
      ]
    },
    {
      "cell_type": "code",
      "execution_count": null,
      "metadata": {
        "id": "lO5JCSKq1Slq"
      },
      "outputs": [],
      "source": [
        "model1.predict(X_test_norm)"
      ]
    },
    {
      "cell_type": "code",
      "execution_count": null,
      "metadata": {
        "id": "6E2xWmTfy6NN"
      },
      "outputs": [],
      "source": [
        "cfg = confusion_matrix(model.predict(X_test_norm), y_test)\n",
        "cfg"
      ]
    },
    {
      "cell_type": "code",
      "execution_count": null,
      "metadata": {
        "id": "_Yc0PwAT0Fcd"
      },
      "outputs": [],
      "source": [
        "# sns.pairplot(data, hue = 'quality', kind = 'kde')"
      ]
    },
    {
      "cell_type": "code",
      "execution_count": null,
      "metadata": {
        "id": "HSu7XO8CbSlH"
      },
      "outputs": [],
      "source": [
        "sns.heatmap(cfg, annot = True, cmap = 'Blues')"
      ]
    },
    {
      "cell_type": "code",
      "execution_count": null,
      "metadata": {
        "id": "gqTFb-yE0tIS"
      },
      "outputs": [],
      "source": []
    }
  ],
  "metadata": {
    "colab": {
      "provenance": []
    },
    "kernelspec": {
      "display_name": "Python 3",
      "name": "python3"
    },
    "language_info": {
      "name": "python"
    }
  },
  "nbformat": 4,
  "nbformat_minor": 0
}